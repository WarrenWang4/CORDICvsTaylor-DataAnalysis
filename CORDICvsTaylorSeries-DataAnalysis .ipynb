{
 "cells": [
  {
   "cell_type": "markdown",
   "metadata": {},
   "source": [
    "# INTRODUCTION\n",
    "\n",
    "        Algebraic functions, functions that are constructed using only a finite amount of algebraic operations are really easy to understand, as algebraic operation involves only addition, subtraction, multiplication, division, and raising to a fractional power. However, when it comes to transcendental functions, functions that cannot be constructed by a finite amount of algebraic operations, they are much harder to comprehend. Some examples of a transcendental function are Trigonometric functions, Inverse Trigonometric functions, and hyperbolic functions.\n",
    "    \n",
    "    Fortunately, after the discovery of the CORDIC algorithm and Taylor’s Series, mathematicians and scientists are able to calculate and approximate these transcendental functions. This helped them obtain a better understanding of these functions, unlocking the unlimited potential of these functions.\n",
    "    \n",
    "    For this project, I was able to developed programs for the CORDIC Algorithm and Taylor Series in Python to compute trigonometric values and utilize data analysis by collecting the output data of algorithms to compare its time complexity and deviation from its true value. "
   ]
  },
  {
   "cell_type": "markdown",
   "metadata": {},
   "source": [
    "## COordinate Rotation DIgital Computer (CORDIC):\n",
    "\n",
    "    The CORDIC Algorithm also known as the COordinate Rotation DIgital Computer or the Volder algorithm is an algorithm used to complete several computational tasks such as the calculation of trigonometric, logarithmic, hyperbolic functions, and complex multiplication and division.  It is one of the most efficient and simple algorithms as its implementation only involves addition, subtraction, bit-shifters, and table lookups."
   ]
  },
  {
   "cell_type": "markdown",
   "metadata": {},
   "source": [
    "### History:\n",
    "\n",
    "    \tIn the year of 1956, Jack E. Volder and the aeroelectronics department of Convair were given the task of replacing the analog computer-driven navigation system of the B-58 bomber, as that navigation system is time consuming and not very accurate. This task led to the discovery of the very first CORDIC prototype. The CORDIC digital resolver worked really well as a replacement with its high accuracy and performance.\n",
    "    \n",
    "    The aeroelectronics department’s very first idea towards inventing the CORDIC was trying to encode sine and cosine functions on optical encoders, but this idea was quickly abandoned. Volder then tried using trigonometry to try to tackle this problem, where he was inspired by two equations from his 1946 edition of the Handbook of Chemistry and Physics.\n",
    "    \n",
    "    Kn R sin(θ ± φ) = R sin(θ ) ± 2−n R cos(θ )\n",
    "    Kn R cos(θ ± φ) = R cos(θ ) ∓ 2−n R sin(θ ) , where Kn = √1 + 2−2n.\n",
    "\n",
    "    which inspired this equation for rotation :\n",
    "   \n",
    "    ⟨ rcos(θ+ϕ), rsin(θ+ϕ) ⟩ = ⟨ rcos(θ)cos(ϕ) − rsin(θ)sin(ϕ), rsin(θ)cos(ϕ) + rcos(θ)sin(ϕ) ⟩ =  \n",
    "        \n",
    "        [cosϕ −sinϕ][rcosθ]\n",
    "        [sinϕ  cosϕ][rsinθ]\n",
    " \n",
    "    Therefore, to rotate about the origin counterclockwise by an angle of ϕ, you would multiply the matrix equation above. Through the two equations, a new algorithm was constructed known as the COordinate Rotation DIgital Computer."
   ]
  },
  {
   "cell_type": "markdown",
   "metadata": {},
   "source": [
    "### Applications:\n",
    "\n",
    "    The CORDIC’s main use as mentioned above is for the calculation of various types of transcendental functions and complex multiplication and division, but it is also able to do the calculation of square-roots, solution of linear system, QR Factorization and many other computational tasks. As a result, along with CORDIC’s high efficiency, it is applicable to a lot of different areas such as signal and image processing, communication systems, robotics and 3-D graphics apart from general scientific and technical computation."
   ]
  },
  {
   "attachments": {},
   "cell_type": "markdown",
   "metadata": {},
   "source": [
    "## Taylor Series:\n",
    "\n",
    "    Taylor’s series are representation of a function, expanding it into an infinite sum. Every subsequent term in this infinite series is calculated by using the derivatives of the previous term going to infinite.\n",
    "\n",
    "    Hundreds of years ago, functions that are infinitely differentiable such as most transcendental functions were impossible to solve. Nevertheless, after the discovery of the Taylor’s series these transcendental functions could easily be represented by it. Taylor’s series has now become a vital theoretical tool in the computational science field and is used regularly by various mathematicians and scientists.\n",
    "\n",
    "\n"
   ]
  },
  {
   "cell_type": "markdown",
   "metadata": {},
   "source": [
    "## SOFTWARE IMPLEMENTATION:"
   ]
  },
  {
   "cell_type": "code",
   "execution_count": 5,
   "metadata": {},
   "outputs": [],
   "source": [
    "import timeit\n",
    "import math\n",
    "\n",
    "#Get the reference angle\n",
    "def refangle(theta):\n",
    "    while(theta >= 360 or theta < 0):\n",
    "        if theta >= 360:\n",
    "            theta = theta - 360\n",
    "        elif theta < 0:\n",
    "            theta = theta + 360\n",
    "    return theta"
   ]
  },
  {
   "cell_type": "markdown",
   "metadata": {},
   "source": [
    "### CORDIC Algorithm in Python:"
   ]
  },
  {
   "cell_type": "code",
   "execution_count": 6,
   "metadata": {},
   "outputs": [
    {
     "name": "stdout",
     "output_type": "stream",
     "text": [
      "Angle in Degrees = 9414\n",
      "cosx: 0.5877843710353928\n",
      "sinx: 0.8090176346442088\n",
      "time: 0.00021906800247961655\n"
     ]
    }
   ],
   "source": [
    "#The angles rotated\n",
    "#angles = atan(2.^-(0:27))\n",
    "\n",
    "angles_old = ['0.78539816339745', '0.46364760900081', '0.24497866312686', '0.12435499454676', '0.06241880999596',\n",
    "              '0.03123983343027', '0.01562372862048', '0.00781234106010', '0.00390623013197', '0.00195312251648', \n",
    "              '0.00097656218956', '0.00048828121119', '0.00024414062015', '0.00012207031189', '0.00006103515617', \n",
    "              '0.00003051757812', '0.00001525878906', '0.00000762939453', '0.00000381469727', '0.00000190734863', ]\n",
    "\n",
    "#Turning the angle from string to float\n",
    "angles = [float(i) for i in angles_old]\n",
    "\n",
    "#Asking user for angle\n",
    "ref = input(\"Angle in Degrees = \")\n",
    "ref = refangle(int(ref))\n",
    "\n",
    "#Getting the Quadrant\n",
    "if ref <= 90 and ref >= 0:\n",
    "    ref = refangle(int(ref))\n",
    "    Quad = 1\n",
    "elif ref <= 180 and ref > 90:\n",
    "    ref = 180 - refangle(int(ref))\n",
    "    Quad = 2\n",
    "elif ref <= 270 and ref > 180:\n",
    "    ref = refangle(int(ref)) - 180\n",
    "    Quad = 3\n",
    "elif ref <= 360 and ref > 270:\n",
    "    Quad = 4\n",
    "    ref = 360 - refangle(int(ref))\n",
    "\n",
    "Vxnew = 1\n",
    "Vynew = 0\n",
    "#constant after 28 iteration\n",
    "K =  0.60725293500888\n",
    "theta = 0\n",
    "\n",
    "start = timeit.default_timer()\n",
    "#iterations\n",
    "for n in range(len(angles)):\n",
    "    #Counter-clockwise rotation since Reference Angle less than theta\n",
    "    if int(ref) > theta:\n",
    "        #Matrix Rotation Formula for CC\n",
    "        Vx = Vxnew - ((1 / 2 ** n) * Vynew)\n",
    "        Vy = ((1 / 2 ** n) * Vxnew) + Vynew\n",
    "        Vxnew = Vx\n",
    "        Vynew = Vy\n",
    "        #New theta after rotation\n",
    "        theta = theta + (math.degrees(angles[n]))\n",
    "    #Clockwise rotation since Reference Angle more than theta\n",
    "    else:\n",
    "        #Matrix Rotation Formula for C\n",
    "        Vx = Vxnew + ((1 / 2 ** n) * Vynew)\n",
    "        Vy = (-(1 / 2 ** n) * Vxnew) + Vynew\n",
    "        Vxnew = Vx\n",
    "        Vynew = Vy\n",
    "        #New theta after Rotation\n",
    "        theta = theta - (math.degrees(angles[n]))\n",
    "stop = timeit.default_timer()\n",
    "\n",
    "#Adjust Vector Length\n",
    "cosx = Vxnew * K\n",
    "sinx = Vynew * K\n",
    "\n",
    "\n",
    "#Determining whether to make the trig function negative depending on quadrant\n",
    "if int(Quad) == 1:\n",
    "    cosx = cosx\n",
    "    sinx = sinx\n",
    "elif int(Quad) == 2:\n",
    "    cosx = cosx * -1\n",
    "elif int(Quad) == 3:\n",
    "    cosx = cosx * -1\n",
    "    sinx = sinx * -1\n",
    "elif int(Quad) == 4:\n",
    "    sinx = sinx * -1\n",
    "\n",
    "\n",
    "print(\"cosx: \" + str(cosx))\n",
    "print(\"sinx: \" + str(sinx))\n",
    "print(\"time: \" + str(stop - start))"
   ]
  },
  {
   "cell_type": "markdown",
   "metadata": {},
   "source": [
    "### Taylor Series Algorithm in Python:"
   ]
  },
  {
   "cell_type": "code",
   "execution_count": 4,
   "metadata": {},
   "outputs": [
    {
     "name": "stdout",
     "output_type": "stream",
     "text": [
      "Angle in Degrees = 20\n",
      "Order = 20\n",
      "cosx: 0.9396926207859085\n",
      "sinx: 0.34202014332566877\n",
      "Error: 1.1102230246251565e-16\n",
      "Error: 5.551115123125783e-17\n",
      "time: 0.00032695499976398423\n"
     ]
    }
   ],
   "source": [
    "import timeit\n",
    "import math\n",
    "\n",
    "#Getting the Factorial\n",
    "def factorial(a):\n",
    "    if a < 2:\n",
    "        return 1\n",
    "    return a * factorial(a-1)\n",
    "\n",
    "#Getting the Reference Angle\n",
    "def refangle(theta):\n",
    "    while(theta >= 360 or theta < 0):\n",
    "       if theta >= 360:\n",
    "           theta = theta - 360\n",
    "       elif theta < 0:\n",
    "           theta = theta + 360 \n",
    "    return theta\n",
    "  \n",
    "#Asking a user for an Angle\n",
    "angle = input(\"Angle in Degrees = \")\n",
    "#Getting the reference angle of the input user angle\n",
    "angle = refangle(int(angle))\n",
    "#Changing angle into radian mode\n",
    "angle = float(angle) * (math.pi/180)\n",
    "#Asking a user for Order of derivative\n",
    "order = input(\"Order = \")\n",
    "n = 0\n",
    "cosx = 0\n",
    "sinx = 0\n",
    "\n",
    "start = timeit.default_timer()\n",
    "for n in range(int(order)):\n",
    "#Formula for Taylor expansion of Cosine\n",
    "    ocosx = ((-1)**n)*(float(angle)**(2*n)) / factorial(2*n)\n",
    "#Adding the order of derivative all together\n",
    "    cosx = cosx + ocosx\n",
    "\n",
    "#Formula for Taylor Expansion of Sine    \n",
    "    osinx = ((-1)**n)*(float(angle)**(2*n+1)) / factorial(2*n+1)\n",
    "#Adding the order of derivative all togehter\n",
    "    sinx = sinx + osinx\n",
    "\n",
    "stop = timeit.default_timer()\n",
    "#Getting the error for Sine and Cosine\n",
    "coserror = abs(cosx - math.cos(angle))\n",
    "sinerror = abs(sinx - math.sin(angle))\n",
    " \n",
    "print(\"cosx: \" + str(cosx))\n",
    "print(\"sinx: \" + str(sinx))\n",
    "print(\"Error: \" + str(coserror))\n",
    "print(\"Error: \" + str(sinerror))\n",
    "print(\"time: \" + str(stop - start))"
   ]
  },
  {
   "cell_type": "code",
   "execution_count": null,
   "metadata": {},
   "outputs": [],
   "source": []
  }
 ],
 "metadata": {
  "kernelspec": {
   "display_name": "Python 3",
   "language": "python",
   "name": "python3"
  },
  "language_info": {
   "codemirror_mode": {
    "name": "ipython",
    "version": 3
   },
   "file_extension": ".py",
   "mimetype": "text/x-python",
   "name": "python",
   "nbconvert_exporter": "python",
   "pygments_lexer": "ipython3",
   "version": "3.6.5"
  }
 },
 "nbformat": 4,
 "nbformat_minor": 2
}
