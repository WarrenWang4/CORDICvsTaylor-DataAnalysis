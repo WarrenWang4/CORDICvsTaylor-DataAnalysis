{
 "cells": [
  {
   "cell_type": "markdown",
   "metadata": {},
   "source": [
    "# INTRODUCTION\n",
    "\n",
    "    Algebraic functions, functions that are constructed using only a finite amount of algebraic operations are really easy to understand, as algebraic operation involves only addition, subtraction, multiplication, division, and raising to a fractional power. However, when it comes to transcendental functions, functions that cannot be constructed by a finite amount of algebraic operations, they are much harder to comprehend. Some examples of a transcendental function are Trigonometric functions, Inverse Trigonometric functions, and hyperbolic functions.\n",
    "    \n",
    "    Fortunately, after the discovery of the CORDIC algorithm and Taylor’s Series, mathematicians and scientists are able to calculate and approximate these transcendental functions. This helped them obtain a better understanding of these functions, unlocking the unlimited potential of these functions.\n",
    "    \n",
    "    For this project, I was able to developed programs for the CORDIC Algorithm and Taylor Series in Python to compute trigonometric values and utilize data analysis by collecting the output data of algorithms to compare its time complexity and deviation from its true value. "
   ]
  },
  {
   "cell_type": "markdown",
   "metadata": {},
   "source": [
    "## COordinate Rotation DIgital Computer (CORDIC):\n",
    "\n",
    "    The CORDIC Algorithm also known as the COordinate Rotation DIgital Computer or the Volder algorithm is an algorithm used to complete several computational tasks such as the calculation of trigonometric, logarithmic, hyperbolic functions, and complex multiplication and division.  It is one of the most efficient and simple algorithms as its implementation only involves addition, subtraction, bit-shifters, and table lookups."
   ]
  },
  {
   "cell_type": "markdown",
   "metadata": {},
   "source": [
    "### History:\n",
    "\n",
    "    In the year of 1956, Jack E. Volder and the aeroelectronics department of Convair were given the task of replacing the analog computer-driven navigation system of the B-58 bomber, as that navigation system is time consuming and not very accurate. This task led to the discovery of the very first CORDIC prototype. The CORDIC digital resolver worked really well as a replacement with its high accuracy and performance.\n",
    "    \n",
    "    The aeroelectronics department’s very first idea towards inventing the CORDIC was trying to encode sine and cosine functions on optical encoders, but this idea was quickly abandoned. Volder then tried using trigonometry to try to tackle this problem, where he was inspired by two equations from his 1946 edition of the Handbook of Chemistry and Physics.\n",
    "    \n",
    "    Kn R sin(θ ± φ) = R sin(θ ) ± 2−n R cos(θ )\n",
    "    Kn R cos(θ ± φ) = R cos(θ ) ∓ 2−n R sin(θ ) , where Kn = √1 + 2−2n.\n",
    "\n",
    "    which inspired this equation for rotation :\n",
    "   \n",
    "    ⟨ rcos(θ+ϕ), rsin(θ+ϕ) ⟩ = ⟨ rcos(θ)cos(ϕ) − rsin(θ)sin(ϕ), rsin(θ)cos(ϕ) + rcos(θ)sin(ϕ) ⟩ =  \n",
    "        \n",
    "        [cosϕ −sinϕ][rcosθ]\n",
    "        [sinϕ  cosϕ][rsinθ]\n",
    " \n",
    "    Therefore, to rotate about the origin counterclockwise by an angle of ϕ, you would multiply the matrix equation above. Through the two equations, a new algorithm was constructed known as the COordinate Rotation DIgital Computer."
   ]
  },
  {
   "cell_type": "markdown",
   "metadata": {},
   "source": [
    "### Applications:\n",
    "\n",
    "    The CORDIC’s main use as mentioned above is for the calculation of various types of transcendental functions and complex multiplication and division, but it is also able to do the calculation of square-roots, solution of linear system, QR Factorization and many other computational tasks. As a result, along with CORDIC’s high efficiency, it is applicable to a lot of different areas such as signal and image processing, communication systems, robotics and 3-D graphics apart from general scientific and technical computation."
   ]
  },
  {
   "cell_type": "markdown",
   "metadata": {},
   "source": [
    "## Taylor Series:\n",
    "\n",
    "    Taylor’s series are representation of a function, expanding it into an infinite sum. Every subsequent term in this infinite series is calculated by using the derivatives of the previous term going to infinite.\n",
    "\n",
    "    Hundreds of years ago, functions that are infinitely differentiable such as most transcendental functions were impossible to solve. Nevertheless, after the discovery of the Taylor’s series these transcendental functions could easily be represented by it. Taylor’s series has now become a vital theoretical tool in the computational science field and is used regularly by various mathematicians and scientists.\n",
    "\n",
    "\n"
   ]
  },
  {
   "cell_type": "markdown",
   "metadata": {},
   "source": [
    "## SOFTWARE IMPLEMENTATION:"
   ]
  },
  {
   "cell_type": "code",
   "execution_count": null,
   "metadata": {},
   "outputs": [],
   "source": [
    "import timeit\n",
    "import math\n",
    "import matplotlib\n",
    "import matplotlib.pyplot as plt\n",
    "import numpy as np\n",
    "\n",
    "#Get the reference angle\n",
    "def refangle(theta):\n",
    "    while(theta >= 360 or theta < 0):\n",
    "        if theta >= 360:\n",
    "            theta = theta - 360\n",
    "        elif theta < 0:\n",
    "            theta = theta + 360\n",
    "    return theta\n",
    "\n",
    "#Getting the Factorial\n",
    "def factorial(a):\n",
    "    if a < 2:\n",
    "        return 1\n",
    "    return a * factorial(a-1)"
   ]
  },
  {
   "cell_type": "markdown",
   "metadata": {},
   "source": [
    "### CORDIC Algorithm in Python:"
   ]
  },
  {
   "cell_type": "code",
   "execution_count": 49,
   "metadata": {},
   "outputs": [
    {
     "name": "stdout",
     "output_type": "stream",
     "text": [
      "Angle in Degrees = 35\n",
      "cos(x): 0.8191245309848876\n",
      "sin(x): 0.5736157263334231\n",
      "cos(x) Error: 2.7513304104220815e-05\n",
      "sin(x) Error: 3.928998237701098e-05\n",
      "time: 0.00019502800569171086\n"
     ]
    }
   ],
   "source": [
    "#The angles rotated\n",
    "#angles = atan(2.^-(0:27))\n",
    "\n",
    "angles_old = ['0.78539816339745', '0.46364760900081', '0.24497866312686', '0.12435499454676', '0.06241880999596',\n",
    "              '0.03123983343027', '0.01562372862048', '0.00781234106010', '0.00390623013197', '0.00195312251648', \n",
    "              '0.00097656218956', '0.00048828121119', '0.00024414062015', '0.00012207031189', '0.00006103515617'\n",
    "             ]\n",
    "\n",
    "#Turning the angle from string to float\n",
    "angles = [float(i) for i in angles_old]\n",
    "\n",
    "#Asking user for angle\n",
    "ref = input(\"Angle in Degrees = \")\n",
    "ref = refangle(int(ref))\n",
    "\n",
    "#Getting the Quadrant\n",
    "if ref <= 90 and ref >= 0:\n",
    "    ref = refangle(int(ref))\n",
    "    Quad = 1\n",
    "elif ref <= 180 and ref > 90:\n",
    "    ref = 180 - refangle(int(ref))\n",
    "    Quad = 2\n",
    "elif ref <= 270 and ref > 180:\n",
    "    ref = refangle(int(ref)) - 180\n",
    "    Quad = 3\n",
    "elif ref <= 360 and ref > 270:\n",
    "    Quad = 4\n",
    "    ref = 360 - refangle(int(ref))\n",
    "\n",
    "Vxnew = 1\n",
    "Vynew = 0\n",
    "#constant after 28 iteration\n",
    "K =  0.60725293500888\n",
    "theta = 0\n",
    "\n",
    "start = timeit.default_timer()\n",
    "#iterations\n",
    "for n in range(len(angles)):\n",
    "    #Counter-clockwise rotation since Reference Angle less than theta\n",
    "    if int(ref) > theta:\n",
    "        #Matrix Rotation Formula for CC\n",
    "        Vx = Vxnew - ((1 / 2 ** n) * Vynew)\n",
    "        Vy = ((1 / 2 ** n) * Vxnew) + Vynew\n",
    "        Vxnew = Vx\n",
    "        Vynew = Vy\n",
    "        #New theta after rotation\n",
    "        theta = theta + (math.degrees(angles[n]))\n",
    "    #Clockwise rotation since Reference Angle more than theta\n",
    "    else:\n",
    "        #Matrix Rotation Formula for C\n",
    "        Vx = Vxnew + ((1 / 2 ** n) * Vynew)\n",
    "        Vy = (-(1 / 2 ** n) * Vxnew) + Vynew\n",
    "        Vxnew = Vx\n",
    "        Vynew = Vy\n",
    "        #New theta after Rotation\n",
    "        theta = theta - (math.degrees(angles[n]))\n",
    "stop = timeit.default_timer()\n",
    "\n",
    "#Adjust Vector Length\n",
    "cosx = Vxnew * K\n",
    "sinx = Vynew * K\n",
    "\n",
    "\n",
    "#Determining whether to make the trig function negative depending on quadrant\n",
    "if int(Quad) == 1:\n",
    "    cosx = cosx\n",
    "    sinx = sinx\n",
    "elif int(Quad) == 2:\n",
    "    cosx = cosx * -1\n",
    "elif int(Quad) == 3:\n",
    "    cosx = cosx * -1\n",
    "    sinx = sinx * -1\n",
    "elif int(Quad) == 4:\n",
    "    sinx = sinx * -1\n",
    "\n",
    "#Getting the error for Sine and Cosine\n",
    "coserror = abs(cosx - np.cos(np.deg2rad(ref)))\n",
    "sinerror = abs(sinx - np.sin(np.deg2rad(ref)))\n",
    "\n",
    "print(\"cos(x): \" + str(cosx))\n",
    "print(\"sin(x): \" + str(sinx))\n",
    "print(\"cos(x) Error: \" + str(coserror))\n",
    "print(\"sin(x) Error: \" + str(sinerror))\n",
    "print(\"time: \" + str(stop - start))"
   ]
  },
  {
   "cell_type": "markdown",
   "metadata": {},
   "source": [
    "### Taylor Series Algorithm in Python:"
   ]
  },
  {
   "cell_type": "code",
   "execution_count": 50,
   "metadata": {},
   "outputs": [
    {
     "name": "stdout",
     "output_type": "stream",
     "text": [
      "Angle in Degrees = 35\n",
      "Order = 15\n",
      "cos(x): 0.8191520442889918\n",
      "sin(x): 0.573576436351046\n",
      "cos(x) Error: 0.0\n",
      "sin(x) Error: 0.0\n",
      "time: 0.00036815800558542833\n"
     ]
    }
   ],
   "source": [
    "#Asking a user for an Angle\n",
    "angle = input(\"Angle in Degrees = \")\n",
    "#Getting the reference angle of the input user angle\n",
    "angle = refangle(int(angle))\n",
    "#Changing angle into radian mode\n",
    "angle = float(angle) * (math.pi/180)\n",
    "#Asking a user for Order of derivative\n",
    "order = input(\"Order = \")\n",
    "n = 0\n",
    "cosx = 0\n",
    "sinx = 0\n",
    "\n",
    "start = timeit.default_timer()\n",
    "for n in range(int(order)):\n",
    "#Formula for Taylor expansion of Cosine\n",
    "    ocosx = ((-1)**n)*(float(angle)**(2*n)) / factorial(2*n)\n",
    "#Adding the order of derivative all together\n",
    "    cosx = cosx + ocosx\n",
    "\n",
    "#Formula for Taylor Expansion of Sine    \n",
    "    osinx = ((-1)**n)*(float(angle)**(2*n+1)) / factorial(2*n+1)\n",
    "#Adding the order of derivative all togehter\n",
    "    sinx = sinx + osinx\n",
    "\n",
    "stop = timeit.default_timer()\n",
    "\n",
    "#Getting the error for Sine and Cosine\n",
    "coserror = abs(cosx - math.cos(angle))\n",
    "sinerror = abs(sinx - math.sin(angle))\n",
    " \n",
    "print(\"cos(x): \" + str(cosx))\n",
    "print(\"sin(x): \" + str(sinx))\n",
    "print(\"cos(x) Error: \" + str(coserror))\n",
    "print(\"sin(x) Error: \" + str(sinerror))\n",
    "print(\"time: \" + str(stop - start))"
   ]
  },
  {
   "cell_type": "markdown",
   "metadata": {},
   "source": [
    "## Conclusion on Accuracy:\n",
    "\n",
    "    The Taylor Series evaluation of cosx and sinx, such that x = 35 degrees has an error of 0.0, while the CORDIC Algorithm has an error of the degree 10^-5. Therefore, we can conclude that the Taylor Series Algorithm has a better accuracy."
   ]
  },
  {
   "cell_type": "markdown",
   "metadata": {},
   "source": [
    "## Data Collection:"
   ]
  },
  {
   "cell_type": "markdown",
   "metadata": {},
   "source": [
    "### CORDIC Algorithm Time Data:"
   ]
  },
  {
   "cell_type": "code",
   "execution_count": 39,
   "metadata": {},
   "outputs": [
    {
     "name": "stdout",
     "output_type": "stream",
     "text": [
      "time for 10 iterations: 0.00019561099907150492\n",
      "time for 100 iterations: 0.0018564929996500723\n",
      "time for 1000 iterations: 0.02088963400456123\n",
      "time for 10000 iterations: 0.17171796099864878\n",
      "time for 100000 iterations: 2.5780259309976827\n",
      "[0.00019561099907150492, 0.0018564929996500723, 0.02088963400456123, 0.17171796099864878, 2.5780259309976827]\n"
     ]
    }
   ],
   "source": [
    "cordicData = []\n",
    "#The angles rotated\n",
    "#angles = atan(2.^-(0:27))\n",
    "#15 rotations\n",
    "angles_old = ['0.78539816339745', '0.46364760900081', '0.24497866312686', '0.12435499454676', '0.06241880999596',\n",
    "              '0.03123983343027', '0.01562372862048', '0.00781234106010', '0.00390623013197', '0.00195312251648', \n",
    "              '0.00097656218956', '0.00048828121119', '0.00024414062015', '0.00012207031189', '0.00006103515617'\n",
    "             ]\n",
    "\n",
    "#Turning the angle from string to float\n",
    "angles = [float(i) for i in angles_old]\n",
    "\n",
    "for x in range(5):\n",
    "    if x == 0:\n",
    "        numLoops = 10\n",
    "    elif x == 1:\n",
    "        numLoops = 100\n",
    "    elif x == 2:\n",
    "        numLoops = 1000\n",
    "    elif x == 3:\n",
    "        numLoops = 10000\n",
    "    elif x == 4:\n",
    "        numLoops = 100000\n",
    "        \n",
    "    start = timeit.default_timer()\n",
    "    for ref in range(numLoops):\n",
    "\n",
    "        ref = refangle(int(ref))\n",
    "\n",
    "        if ref <= 90 and ref >= 0:\n",
    "            ref = refangle(int(ref))\n",
    "        elif ref <= 180 and ref > 90:\n",
    "            ref = 180 - refangle(int(ref))\n",
    "        elif ref <= 270 and ref > 180:\n",
    "            ref = refangle(int(ref)) - 180\n",
    "        elif ref <= 360 and ref > 270:\n",
    "            ref = 360 - refangle(int(ref))\n",
    "\n",
    "        Vxnew = 1\n",
    "        Vynew = 0\n",
    "        #constant after 28 iteration\n",
    "        K =  0.60725293500888\n",
    "        theta = 0\n",
    "\n",
    "        #iterations\n",
    "        for n in range(len(angles)):\n",
    "            #Counter-clockwise rotation since Reference Angle less than theta\n",
    "            if int(ref) > theta:\n",
    "                #Matrix Rotation Formula for CC\n",
    "                Vx = Vxnew - ((1 / 2 ** n) * Vynew)\n",
    "                Vy = ((1 / 2 ** n) * Vxnew) + Vynew\n",
    "                Vxnew = Vx\n",
    "                Vynew = Vy\n",
    "                #New theta after rotation\n",
    "                theta = theta + (math.degrees(angles[n]))\n",
    "            #Clockwise rotation since Reference Angle more than theta\n",
    "            else:\n",
    "                #Matrix Rotation Formula for C\n",
    "                Vx = Vxnew + ((1 / 2 ** n) * Vynew)\n",
    "                Vy = (-(1 / 2 ** n) * Vxnew) + Vynew\n",
    "                Vxnew = Vx\n",
    "                Vynew = Vy\n",
    "                #New theta after Rotation\n",
    "                theta = theta - (math.degrees(angles[n]))\n",
    "    stop = timeit.default_timer()\n",
    "    cordicData.append(stop - start) \n",
    "    print(\"time for \" + str(numLoops) + \" iterations: \" + str(stop - start))\n",
    "print(cordicData)"
   ]
  },
  {
   "cell_type": "markdown",
   "metadata": {},
   "source": [
    "### Taylor Series Algorithm Time Data"
   ]
  },
  {
   "cell_type": "code",
   "execution_count": 40,
   "metadata": {},
   "outputs": [
    {
     "name": "stdout",
     "output_type": "stream",
     "text": [
      "time for 10 iterations: 0.000920421996852383\n",
      "time for 100 iterations: 0.009438872002647258\n",
      "time for 1000 iterations: 0.08341941300022881\n",
      "time for 10000 iterations: 0.7822316860037972\n",
      "time for 100000 iterations: 8.366445086998283\n",
      "[0.000920421996852383, 0.009438872002647258, 0.08341941300022881, 0.7822316860037972, 8.366445086998283]\n"
     ]
    }
   ],
   "source": [
    "taylorData = []\n",
    "order = 15\n",
    "n = 0\n",
    "cosx = 0\n",
    "sinx = 0\n",
    "\n",
    "for x in range(5):\n",
    "    if x == 0:\n",
    "        numLoops = 10\n",
    "    elif x == 1:\n",
    "        numLoops = 100\n",
    "    elif x == 2:\n",
    "        numLoops = 1000\n",
    "    elif x == 3:\n",
    "        numLoops = 10000\n",
    "    elif x == 4:\n",
    "        numLoops = 100000\n",
    "   \n",
    "    start = timeit.default_timer()\n",
    "    for angle in range(numLoops):\n",
    "\n",
    "        angle = refangle(int(angle))\n",
    "        angle = float(angle) * (math.pi/180)\n",
    "\n",
    "        for n in range(int(order)):\n",
    "        #Formula for Taylor expansion of Cosine\n",
    "            ocosx = ((-1)**n)*(float(angle)**(2*n)) / factorial(2*n)\n",
    "        #Adding the order of derivative all together\n",
    "            cosx = cosx + ocosx\n",
    "\n",
    "        #Formula for Taylor Expansion of Sine    \n",
    "            osinx = ((-1)**n)*(float(angle)**(2*n+1)) / factorial(2*n+1)\n",
    "        #Adding the order of derivative all togehter\n",
    "            sinx = sinx + osinx\n",
    "\n",
    "    stop = timeit.default_timer()\n",
    "    taylorData.append(stop - start)\n",
    "    print(\"time for \" + str(numLoops) + \" iterations: \" + str(stop - start))\n",
    "print(taylorData)"
   ]
  },
  {
   "cell_type": "markdown",
   "metadata": {},
   "source": [
    "## Data Visualization:"
   ]
  },
  {
   "cell_type": "code",
   "execution_count": 48,
   "metadata": {},
   "outputs": [
    {
     "name": "stdout",
     "output_type": "stream",
     "text": [
      "CORDIC Algoritm: Blue\n",
      "Taylor Series: Red\n"
     ]
    },
    {
     "data": {
      "image/png": "[encoded data removed]",
      "text/plain": [
       "<Figure size 432x288 with 1 Axes>"
      ]
     },
     "metadata": {},
     "output_type": "display_data"
    }
   ],
   "source": [
    "iterations = [10, 100, 1000, 10000, 100000]\n",
    "c = cordicData\n",
    "t = taylorData\n",
    "\n",
    "fig, ax = plt.subplots()\n",
    "ax.plot(iterations, c, 'b')\n",
    "ax.plot(iterations, t, 'r')\n",
    "\n",
    "ax.set(xlabel='# of Iterations', ylabel='time (s)',\n",
    "       title = 'Time(s) vs. # of iterations')\n",
    "ax.grid()\n",
    "\n",
    "print(\"CORDIC Algoritm: Blue\")\n",
    "print(\"Taylor Series: Red\")\n",
    "\n",
    "fig.savefig(\"test.png\")\n",
    "plt.show()"
   ]
  },
  {
   "cell_type": "markdown",
   "metadata": {},
   "source": [
    "## Conclusion on time complexity\n",
    "    \n",
    "    Through analyzing the graph, we can see that the Taylor Series Algorithm (red) requiring a much longer time to run numbers of iterations compared to the CORDIC Algorithm (Blue). We can also see the Taylor Series Algorithm (Red) growing at a much faster rate compared to the CORDIC Algorithm (Blue). Therefore, we can conclude that the CORDIC Algorithm has a better time complexity."
   ]
  }
 ],
 "metadata": {
  "kernelspec": {
   "display_name": "Python 3",
   "language": "python",
   "name": "python3"
  },
  "language_info": {
   "codemirror_mode": {
    "name": "ipython",
    "version": 3
   },
   "file_extension": ".py",
   "mimetype": "text/x-python",
   "name": "python",
   "nbconvert_exporter": "python",
   "pygments_lexer": "ipython3",
   "version": "3.6.5"
  }
 },
 "nbformat": 4,
 "nbformat_minor": 2
}
